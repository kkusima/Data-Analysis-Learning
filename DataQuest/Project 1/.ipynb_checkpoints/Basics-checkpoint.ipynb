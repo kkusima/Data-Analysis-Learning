{
 "cells": [
  {
   "cell_type": "markdown",
   "metadata": {},
   "source": [
    "<h1 style='text-align: center;font-size:19px;'> Application Analysis to Determine a Profitable New Application for both Google Play and Apple App Stores </h1>\n",
    "<p style='text-align: center;font-size:17px;'> <i><b> Author : Kenneth Lucas Kusima <br> Attributor: DataQuest </b> </i> </p>\n",
    "\n",
    "## 1. Project Origin:\n",
    "<p style='text-align: justify;'> $\\hspace{10 mm}$This project was made per instructions from: </p> \n",
    "       \n",
    "<center> $\\textbf{The DataQuest Course: Python for Data Science Fundamentals}$</center>\n",
    "\n",
    "## 2. Objective:\n",
    "<p style='text-align: justify;'> $\\hspace{5 mm}$ For this project, I pretend I am working as a data analyst for a company that builds Android and iOS mobile applications (apps). They make apps available both on Google Play and the App Store. </p>\n",
    "<p style='text-align: justify;'> $\\hspace{5 mm}$ The company only build apps that are free to download and install, and the main source of revenue consists of in-app ads. This means that different companies can pay to have their ads appear in various parts of the application. This means that revenue for any given app is mostly influenced by the number of users who use the app — the more users that see and engage with the ads, the better. <b> My goal for this project is to analyze application data and assist the company developers understand what type of apps are likely to attract more users. </b> </p>\n",
    "\n",
    "After identifying and analysing the most attractive application types, the company hopes to follow the strategy outlined in the following steps: \n",
    "\n",
    "- Use results from the analysis to generate a minimal Android version of the \"perfect\" app and add it to the Google Play Store. \n",
    "- Asses and monitor the application's user response and further develop the app if good ratings are recieved.\n",
    "- After six month, if substantial profit is seen, build an iOS version of the app and add it to the Apple App Store.\n"
   ]
  },
  {
   "cell_type": "markdown",
   "metadata": {
    "collapsed": true
   },
   "source": [
    "## 3. Dataset Definition:\n",
    "<p style='text-align: justify;'> $\\hspace{5 mm}$ According to Statista, in 2018, there were approximately 2 million iOS apps on the App Store and 2.1 million Andorid apps on the Google Play Store. Analysing data from more than 4 million apps across the Google Play and iOS App Stores. As a result, DataQuest offers data sets that encapsulate a select group of applications to which significant analysis can be conducted. Android apps data set holds data on approximately 10,000 Android apps collected in August 2018 from Google Play. Moreover, the data set for iOS Apps contains about 7,000 iOS apps collected in July 2017 from the App Store. </p> \n",
    "\n",
    "<p style='text-align: center;'> <b> Table 1: Summary of Datasets to be used <b> </p>\n",
    "\n",
    "| Dataset          | Location          | Collection Date | Number of Apps  |\n",
    "| :---:            |    :----:         |          :---:  |         :---:   |\n",
    "| Android apps     | Google Play Store | August 2018     | 10,841          |\n",
    "| iOS apps         | Apple App Store   | July 2017       | 7,197           |"
   ]
  },
  {
   "cell_type": "markdown",
   "metadata": {},
   "source": [
    "## 4. Exploring the Datasets:"
   ]
  },
  {
   "cell_type": "code",
   "execution_count": 1,
   "metadata": {
    "scrolled": true
   },
   "outputs": [
    {
     "name": "stdout",
     "output_type": "stream",
     "text": [
      "The First 2 rows of iOS App dataset: \n",
      "\n",
      "['id', 'track_name', 'size_bytes', 'currency', 'price', 'rating_count_tot', 'rating_count_ver', 'user_rating', 'user_rating_ver', 'ver', 'cont_rating', 'prime_genre', 'sup_devices.num', 'ipadSc_urls.num', 'lang.num', 'vpp_lic']\n",
      "\n",
      "\n",
      "['284882215', 'Facebook', '389879808', 'USD', '0.0', '2974676', '212', '3.5', '3.5', '95.0', '4+', 'Social Networking', '37', '1', '29', '1']\n",
      "\n",
      "\n",
      "Number of rows: 7198\n",
      "Number of columns: 16\n",
      "\n",
      "\n",
      "The First 2 rows of Android dataset: \n",
      "\n",
      "['App', 'Category', 'Rating', 'Reviews', 'Size', 'Installs', 'Type', 'Price', 'Content Rating', 'Genres', 'Last Updated', 'Current Ver', 'Android Ver']\n",
      "\n",
      "\n",
      "['Photo Editor & Candy Camera & Grid & ScrapBook', 'ART_AND_DESIGN', '4.1', '159', '19M', '10,000+', 'Free', '0', 'Everyone', 'Art & Design', 'January 7, 2018', '1.0.0', '4.0.3 and up']\n",
      "\n",
      "\n",
      "Number of rows: 10842\n",
      "Number of columns: 13\n",
      "\n",
      "\n"
     ]
    }
   ],
   "source": [
    "from csv import reader\n",
    "\n",
    "#Apple Store Dataset\n",
    "opened_file_1 = open('AppleStore.csv')\n",
    "read_file_1 = reader(opened_file_1)\n",
    "ios_apps_data = list(read_file_1)\n",
    "\n",
    "#Google Play Store Dataset\n",
    "opened_file_2 = open('googleplaystore.csv')\n",
    "read_file_2 = reader(opened_file_2)\n",
    "android_apps_data = list(read_file_2)\n",
    "\n",
    "#Function for exploring the datasets inputed\n",
    "def explore_data(dataset, start, end, rows_and_columns=False):\n",
    "    dataset_slice = dataset[start:end]    \n",
    "    for row in dataset_slice:\n",
    "        print(row)\n",
    "        print('\\n') # adds a new (empty) line after each row\n",
    "\n",
    "    if rows_and_columns:\n",
    "        print('Number of rows:', len(dataset))\n",
    "        print('Number of columns:', len(dataset[0]))\n",
    "        print('\\n')\n",
    "\n",
    "        \n",
    "#Exploring the Apple Store Dataset:\n",
    "print('The First 2 rows of iOS App dataset: \\n')\n",
    "explore_data(ios_apps_data,0,2,True)\n",
    "\n",
    "#Exploring the Google Play Store Dataset:\n",
    "print('The First 2 rows of Android dataset: \\n')\n",
    "explore_data(android_apps_data,0,2,True)\n"
   ]
  },
  {
   "cell_type": "markdown",
   "metadata": {
    "collapsed": true
   },
   "source": [
    "<p style='text-align: justify;'> $\\hspace{5 mm}$ In obtaining the first few rows of the two datasets, as see in the results above, a deeper understanding of the specific data entry types  can be obtained . This can then be used to provide the basis and direction of our analysis. Looking at the column headers allows us to pick the appropriate data entries to focus on in comparing, contrasting and discovering trends between the two datasets. A full view of the data recorded in the two datasets can be found in the links below: </p>\n",
    " \n",
    "Apple App Store    (iOS Apps)     : https://dq-content.s3.amazonaws.com/350/AppleStore.csv\n",
    "\n",
    "Google Play Store  (Android Apps) : https://dq-content.s3.amazonaws.com/350/googleplaystore.csv\n",
    " \n",
    "\n",
    "###  $\\hspace{8 mm}$  <i> 4.1 Column Header Analysis: </i>\n",
    "$\\hspace{5 mm}$In looking at the column headers of the two data sets, similar columns that appear beneficial for different future analysis may be summarised:\n",
    " \n",
    "<p style='text-align: center;'> <b> Table 2: List of significant column headers guiding the type of data anlaysis to follow <b> </p>\n",
    "\n",
    "| iOS Apps headers | <i> Column </i>   |Android Apps headers|<i> Column </i>|\n",
    "| :---:            |    :----:         |    :----:         |     :----:    |    \n",
    "| Track name       |    2              | App               |    1          |\n",
    "| size_bytes       |    3              | Size              |    2          | \n",
    "| price            |    5              | Price             |    8          | \n",
    "| cont_rating      |    11             | Content Rating    |    9          | \n",
    "| prime_genre      |    12             | Genres            |    10         |       \n",
    "| user_rating      |    8              | Rating            |    3          |           \n"
   ]
  },
  {
   "cell_type": "markdown",
   "metadata": {},
   "source": [
    "## 5. Data Cleaning:\n",
    "\n",
    "<p style='text-align: justify;'> $\\hspace{5 mm}$ Inorder to provide accurate results, accurate data is needed. Consequently, data cleaning conducted before analysis provides assurance that results obtained would be free of human errors such as duplicates, typos and irrelevant data. The cleaning is done by removing or correcting wrong data, removing duplicate data and modifying the data so as to fit the purpose of the analysis. </p>\n",
    "\n",
    "###  $\\hspace{8 mm}$  <i> 5.1 Detecting and Deleting Wrong Data: </i>\n",
    "\n",
    "<p style='text-align: justify;'> $\\hspace{5 mm}$ The google play dataset has been reported to have errors in a certain row. The entry (row 10,472) has been addressed to have \"missing 'Rating' and a column shift happened for next columns\". Since there are 10,842 apps, deleting this erroneous application entry would not provide much issues. </p>"
   ]
  },
  {
   "cell_type": "code",
   "execution_count": 2,
   "metadata": {},
   "outputs": [
    {
     "name": "stdout",
     "output_type": "stream",
     "text": [
      "['Xposed Wi-Fi-Pwd', 'PERSONALIZATION', '3.5', '1042', '404k', '100,000+', 'Free', '0', 'Everyone', 'Personalization', 'August 5, 2014', '3.0.0', '4.0.3 and up']\n",
      "\n",
      "\n",
      "['Life Made WI-Fi Touchscreen Photo Frame', '1.9', '19', '3.0M', '1,000+', 'Free', '0', 'Everyone', '', 'February 11, 2018', '1.0.19', '4.0 and up']\n",
      "\n",
      "\n",
      "['osmino Wi-Fi: free WiFi', 'TOOLS', '4.2', '134203', '4.1M', '10,000,000+', 'Free', '0', 'Everyone', 'Tools', 'August 7, 2018', '6.06.14', '4.4 and up']\n",
      "\n",
      "\n"
     ]
    }
   ],
   "source": [
    "#Inspecting the suscpicious rows\n",
    "for row in android_apps_data[10472:10475]:\n",
    "        print(row)\n",
    "        print('\\n') # adds a new (empty) line after each row"
   ]
  },
  {
   "cell_type": "markdown",
   "metadata": {},
   "source": [
    "<p style='text-align: justify;'> $\\hspace{5 mm} $\n",
    "It is evident that the entry for the Android application <b> 'Life Made WI-Fi Touchscreen Photo Frame'</b> (i.e. the row corresponding to android_apps_data[10473]) is erroneous. There appears to be missing data points. This application entry is therefore deleted as follows. </p>\n"
   ]
  },
  {
   "cell_type": "code",
   "execution_count": 3,
   "metadata": {},
   "outputs": [
    {
     "name": "stdout",
     "output_type": "stream",
     "text": [
      "['Xposed Wi-Fi-Pwd', 'PERSONALIZATION', '3.5', '1042', '404k', '100,000+', 'Free', '0', 'Everyone', 'Personalization', 'August 5, 2014', '3.0.0', '4.0.3 and up']\n",
      "\n",
      "\n",
      "['osmino Wi-Fi: free WiFi', 'TOOLS', '4.2', '134203', '4.1M', '10,000,000+', 'Free', '0', 'Everyone', 'Tools', 'August 7, 2018', '6.06.14', '4.4 and up']\n",
      "\n",
      "\n",
      "['Sat-Fi Voice', 'COMMUNICATION', '3.4', '37', '14M', '1,000+', 'Free', '0', 'Everyone', 'Communication', 'November 21, 2014', '2.2.1.5', '2.2 and up']\n",
      "\n",
      "\n"
     ]
    }
   ],
   "source": [
    "#Deleting the erroneous row\n",
    "del android_apps_data[10473]\n",
    "\n",
    "#Validation\n",
    "for row in android_apps_data[10472:10475]:\n",
    "        print(row)\n",
    "        print('\\n') # adds a new (empty) line after each row"
   ]
  },
  {
   "cell_type": "markdown",
   "metadata": {},
   "source": [
    "###  $\\hspace{8 mm}$  <i> 5.2 Clearing Out Duplicates: </i>\n",
    "\n",
    "<p style = 'text-align ; justify ;'> $\\hspace{0.5mm}$ \n",
    "Duplicates may result in an overestimation or underestimation of results. This is therefore need to investigate and correct for any repeated entries. </p>\n",
    "\n",
    "##### $\\hspace{9 mm}$ 5.2.1 Explorinng the Duplicated Andorid Apps:\n"
   ]
  },
  {
   "cell_type": "code",
   "execution_count": 4,
   "metadata": {},
   "outputs": [
    {
     "name": "stdout",
     "output_type": "stream",
     "text": [
      "Number of duplicate android apps: 1181\n",
      "\n",
      "\n",
      "Examples of duplicate android apps: ['Quick PDF Scanner + OCR FREE', 'Box', 'Google My Business', 'ZOOM Cloud Meetings', 'join.me - Simple Meetings', 'Box', 'Zenefits', 'Google Ads', 'Google My Business', 'Slack']\n"
     ]
    }
   ],
   "source": [
    "#Checking for duplicates in android dataset:\n",
    "duplicate_apps_android = []  #Empty list for duplicate apps\n",
    "unique_apps_android = []     #Empty list for unique apps\n",
    "\n",
    "for app_android in android_apps_data:       #Extracting rows from the android dataset\n",
    "    name_android = app_android[0]           #Isolating based on similar App name (i.e column 0 from dataset)\n",
    "    if name_android in unique_apps_android: #Keeping track of duplicates\n",
    "        duplicate_apps_android.append(name_android)\n",
    "    else:\n",
    "            unique_apps_android.append(name_android) #Isolating Unique entries\n",
    "            \n",
    "print('Number of duplicate android apps:', len(duplicate_apps_android))\n",
    "print('\\n')\n",
    "print('Examples of duplicate android apps:', duplicate_apps_android[:10] )"
   ]
  },
  {
   "cell_type": "code",
   "execution_count": 5,
   "metadata": {},
   "outputs": [
    {
     "name": "stdout",
     "output_type": "stream",
     "text": [
      "Few duplicate data entrys in the android dataset: \n",
      "\n",
      "['Box', 'BUSINESS', '4.2', '159872', 'Varies with device', '10,000,000+', 'Free', '0', 'Everyone', 'Business', 'July 31, 2018', 'Varies with device', 'Varies with device']\n",
      "['Box', 'BUSINESS', '4.2', '159872', 'Varies with device', '10,000,000+', 'Free', '0', 'Everyone', 'Business', 'July 31, 2018', 'Varies with device', 'Varies with device']\n",
      "['Box', 'BUSINESS', '4.2', '159872', 'Varies with device', '10,000,000+', 'Free', '0', 'Everyone', 'Business', 'July 31, 2018', 'Varies with device', 'Varies with device']\n",
      "['Instagram', 'SOCIAL', '4.5', '66577313', 'Varies with device', '1,000,000,000+', 'Free', '0', 'Teen', 'Social', 'July 31, 2018', 'Varies with device', 'Varies with device']\n",
      "['Instagram', 'SOCIAL', '4.5', '66577446', 'Varies with device', '1,000,000,000+', 'Free', '0', 'Teen', 'Social', 'July 31, 2018', 'Varies with device', 'Varies with device']\n",
      "['Instagram', 'SOCIAL', '4.5', '66577313', 'Varies with device', '1,000,000,000+', 'Free', '0', 'Teen', 'Social', 'July 31, 2018', 'Varies with device', 'Varies with device']\n",
      "['Instagram', 'SOCIAL', '4.5', '66509917', 'Varies with device', '1,000,000,000+', 'Free', '0', 'Teen', 'Social', 'July 31, 2018', 'Varies with device', 'Varies with device']\n"
     ]
    }
   ],
   "source": [
    "#Exploring a few of the duplicates from the android dataset\n",
    "print('Few duplicate data entrys in the android dataset: \\n')\n",
    "\n",
    "for app_android in android_apps_data:                \n",
    "    name_android = app_android[0]    \n",
    "    if name_android == 'Box':\n",
    "        print(app_android)\n",
    "    if name_android == 'Instagram':\n",
    "        print(app_android)"
   ]
  },
  {
   "cell_type": "markdown",
   "metadata": {},
   "source": [
    "The presence of 1181 duplicates pose a significant threat to the accuracy of further analysis. These duplicates need to be removed and this is done in the sections further below."
   ]
  },
  {
   "cell_type": "markdown",
   "metadata": {},
   "source": [
    "##### $\\hspace{9 mm}$ 5.2.2 Explorinng the Duplicated iOS Apps:\n",
    "Similarly for the iOS app dataset,"
   ]
  },
  {
   "cell_type": "code",
   "execution_count": 6,
   "metadata": {},
   "outputs": [
    {
     "name": "stdout",
     "output_type": "stream",
     "text": [
      "Number of duplicate iOS apps: 0\n",
      "\n",
      "\n",
      "Examples of duplicate iOS apps: []\n"
     ]
    }
   ],
   "source": [
    "#Checking for duplicates in iOS dataset:\n",
    "duplicate_apps_ios = []       #Empty list for duplicate apps\n",
    "unique_apps_ios = []          #Empty list for unique apps\n",
    "\n",
    "for app_ios in ios_apps_data[1:]:                #Extracting rows from the iOS dataset\n",
    "    name_ios = app_ios[0]                    #Isolating based on similar App name (i.e column 0 from dataset)\n",
    "    if name_ios in unique_apps_ios:          #Keeping track of duplicates\n",
    "        duplicate_apps_ios.append(name_ios)\n",
    "    else:\n",
    "            unique_apps_ios.append(name_ios) #Isolating Unique entries\n",
    "            \n",
    "print('Number of duplicate iOS apps:', len(duplicate_apps_ios))\n",
    "print('\\n')\n",
    "print('Examples of duplicate iOS apps:', duplicate_apps_ios[:40] )"
   ]
  },
  {
   "cell_type": "markdown",
   "metadata": {},
   "source": [
    "There appears to be no duplicate apps in the iOS app dataset."
   ]
  },
  {
   "cell_type": "markdown",
   "metadata": {},
   "source": [
    "##### $\\hspace{9 mm}$ 5.2.3 Removing the Duplicated Andorid Apps:\n",
    "<p style = 'text-align ; justify ;'> $\\hspace{0.5 mm}$  To remove duplicated data entries in the two application datasets, there needs to be a criteria to which only one of the entries is chosen out of the different duplicates. For the duplicated andorid apps, it can be found that a main difference among the duplicates is the number of reviews (the fourth column). They indicate that the duplicates were recorded at different times where the ones with the most reviews happen to be the most up to date entries. Consequently, to remove the android app duplicates, instead of randomly choosing applications to remove, focus is made to keep only the most up to date entry duplicate, that is, the (duplicated) row with the highest number of reviews. </p>\n",
    "\n"
   ]
  },
  {
   "cell_type": "code",
   "execution_count": 7,
   "metadata": {},
   "outputs": [],
   "source": [
    "reviews_max = {} #Dictionaty to contain unique apps and the corresponding (max) number of reviews\n",
    "for rows in android_apps_data[1:]:\n",
    "    name = rows[0]  #Isolating the name of every row entry\n",
    "    n_reviews = float(rows[3])  #Isolating the reviews of the app entry\n",
    "\n",
    "    if name in reviews_max and reviews_max[name] < n_reviews:\n",
    "        reviews_max[name] = n_reviews\n",
    "        \n",
    "    if name not in reviews_max:\n",
    "        reviews_max[name] = n_reviews"
   ]
  },
  {
   "cell_type": "markdown",
   "metadata": {},
   "source": [
    "To validate that the duplicated entries have been removed, the inspection below can be done:"
   ]
  },
  {
   "cell_type": "code",
   "execution_count": 8,
   "metadata": {},
   "outputs": [
    {
     "name": "stdout",
     "output_type": "stream",
     "text": [
      "Expected length: 9659\n",
      "Actual length: 9659\n"
     ]
    }
   ],
   "source": [
    "print('Expected length:', len(android_apps_data[1:]) - 1181)\n",
    "print('Actual length:', len(reviews_max))"
   ]
  },
  {
   "cell_type": "markdown",
   "metadata": {},
   "source": [
    "###### $\\hspace{9 mm}$ 5.2.3.1 Isolating the non-duplicated andorid apps:\n",
    "\n",
    "<p style = 'text-align ; justify ;'> $\\hspace{0.5 mm}$ The dictionary : <b> 'reviews_max' </b> now holds both the non-duplicated android applications and the corresponding ratings. This can then be used to create a new dataset of android apps with non_duplicates, named, <b> 'android_apps_data_clean' </b> . Another list <b> ('already_added_android')</b> can also be made to contain the names of all the apps in this new dataset. </p>"
   ]
  },
  {
   "cell_type": "code",
   "execution_count": 9,
   "metadata": {
    "scrolled": true
   },
   "outputs": [
    {
     "name": "stdout",
     "output_type": "stream",
     "text": [
      "['Photo Editor & Candy Camera & Grid & ScrapBook', 'ART_AND_DESIGN', '4.1', '159', '19M', '10,000+', 'Free', '0', 'Everyone', 'Art & Design', 'January 7, 2018', '1.0.0', '4.0.3 and up']\n",
      "\n",
      "\n",
      "['U Launcher Lite – FREE Live Cool Themes, Hide Apps', 'ART_AND_DESIGN', '4.7', '87510', '8.7M', '5,000,000+', 'Free', '0', 'Everyone', 'Art & Design', 'August 1, 2018', '1.2.4', '4.0.3 and up']\n",
      "\n",
      "\n",
      "['Sketch - Draw & Paint', 'ART_AND_DESIGN', '4.5', '215644', '25M', '50,000,000+', 'Free', '0', 'Teen', 'Art & Design', 'June 8, 2018', 'Varies with device', '4.2 and up']\n",
      "\n",
      "\n",
      "Number of rows: 9659\n",
      "Number of columns: 13\n",
      "\n",
      "\n"
     ]
    }
   ],
   "source": [
    "android_apps_data_clean = []\n",
    "already_added_android = []\n",
    "\n",
    "for rows in android_apps_data[1:]:\n",
    "    name = rows[0]\n",
    "    n_reviews = float(rows[3])\n",
    "    \n",
    "    if (reviews_max[name] == n_reviews) and (name not in already_added_android):\n",
    "        android_apps_data_clean.append(rows)\n",
    "        already_added_android.append(name)\n",
    "\n",
    "explore_data(android_apps_data_clean, 0, 3, True) #Showing the final duplicate free android app dataset"
   ]
  },
  {
   "cell_type": "markdown",
   "metadata": {},
   "source": [
    "###  $\\hspace{8 mm}$  <i> 5.3. Removing Non-English Apps </i>\n"
   ]
  },
  {
   "cell_type": "markdown",
   "metadata": {},
   "source": [
    "<p style = 'text-align ; justify ;'> $\\hspace{0.5 mm}$ Our Company only uses English for the apps being developed therefore it is in our interest to remove any non-English applications in the datasets. The apps are filtered to only include those directed for an English-speaking audience.  </p>\n",
    "\n",
    "<p style = 'text-align ; justify;'> $\\hspace{0.5 mm}$\n",
    "The English language utilises characters which correspond to numbers that fall in the range 0 to 127 (i.e the ASCII range) . The corresponding number assigned to the different character can be found using the function <b> 'ord(  )' </b>. Hence, in order to distinguish the english applications, the function below filters the string input and checks if each character belongs in the ASCII range. All other characters and symbols (including chinese characters and emojis) fall outside of this range. As a result, to account for those english apps that have few non-english characters in their name, a maximum of 3 non-english characters is allowed in the characterisation of english applications. This means that any application with more than 3 characters not in the ASCII range will be considered non-English </p>"
   ]
  },
  {
   "cell_type": "code",
   "execution_count": 10,
   "metadata": {},
   "outputs": [],
   "source": [
    "def English_app(string):\n",
    "    count = 0\n",
    "    for char in string:\n",
    "        val = (ord(char))\n",
    "        if val > 127:\n",
    "            count +=1\n",
    "            if count > 3 :\n",
    "                return False\n",
    "        \n",
    "    return True"
   ]
  },
  {
   "cell_type": "markdown",
   "metadata": {},
   "source": [
    "##### $\\hspace{9 mm}$ 5.3.1 Removing Non-English Andorid Apps:"
   ]
  },
  {
   "cell_type": "code",
   "execution_count": 11,
   "metadata": {},
   "outputs": [
    {
     "name": "stdout",
     "output_type": "stream",
     "text": [
      "['Photo Editor & Candy Camera & Grid & ScrapBook', 'ART_AND_DESIGN', '4.1', '159', '19M', '10,000+', 'Free', '0', 'Everyone', 'Art & Design', 'January 7, 2018', '1.0.0', '4.0.3 and up']\n",
      "\n",
      "\n",
      "['U Launcher Lite – FREE Live Cool Themes, Hide Apps', 'ART_AND_DESIGN', '4.7', '87510', '8.7M', '5,000,000+', 'Free', '0', 'Everyone', 'Art & Design', 'August 1, 2018', '1.2.4', '4.0.3 and up']\n",
      "\n",
      "\n",
      "['Sketch - Draw & Paint', 'ART_AND_DESIGN', '4.5', '215644', '25M', '50,000,000+', 'Free', '0', 'Teen', 'Art & Design', 'June 8, 2018', 'Varies with device', '4.2 and up']\n",
      "\n",
      "\n",
      "Number of English Android Apps: 9614\n"
     ]
    }
   ],
   "source": [
    "android_apps_english_data = []\n",
    "for row in android_apps_data_clean:\n",
    "    name = row[0]\n",
    "    if English_app(name):\n",
    "        android_apps_english_data.append(row)\n",
    "        \n",
    "explore_data(android_apps_english_data,0,3)\n",
    "print('Number of English Android Apps:',len(android_apps_english_data))"
   ]
  },
  {
   "cell_type": "markdown",
   "metadata": {},
   "source": [
    "##### $\\hspace{9 mm}$ 5.3.2 Removing Non-English iOS Apps:"
   ]
  },
  {
   "cell_type": "code",
   "execution_count": 12,
   "metadata": {},
   "outputs": [
    {
     "name": "stdout",
     "output_type": "stream",
     "text": [
      "['284882215', 'Facebook', '389879808', 'USD', '0.0', '2974676', '212', '3.5', '3.5', '95.0', '4+', 'Social Networking', '37', '1', '29', '1']\n",
      "\n",
      "\n",
      "['389801252', 'Instagram', '113954816', 'USD', '0.0', '2161558', '1289', '4.5', '4.0', '10.23', '12+', 'Photo & Video', '37', '0', '29', '1']\n",
      "\n",
      "\n",
      "['529479190', 'Clash of Clans', '116476928', 'USD', '0.0', '2130805', '579', '4.5', '4.5', '9.24.12', '9+', 'Games', '38', '5', '18', '1']\n",
      "\n",
      "\n",
      "Number of English iOS Apps: 6183\n"
     ]
    }
   ],
   "source": [
    "iOS_apps_english_data = []\n",
    "for row in ios_apps_data[1:]:\n",
    "    name = row[1]\n",
    "    if English_app(name):\n",
    "        iOS_apps_english_data.append(row)\n",
    "        \n",
    "explore_data(iOS_apps_english_data,0,3)\n",
    "print('Number of English iOS Apps:',len(iOS_apps_english_data))"
   ]
  },
  {
   "cell_type": "markdown",
   "metadata": {},
   "source": [
    "###  $\\hspace{8 mm}$  <i> 5.4. Separating the Free apps </i>\n"
   ]
  },
  {
   "cell_type": "markdown",
   "metadata": {},
   "source": [
    "<p style = 'text-align ; justify;'> $\\hspace{0.5 mm}$ Since the company's source of revenue is through in-app purchases, the applications developed are free applications. It is therefore critical to filter the datsets to include only free apps. </p> "
   ]
  },
  {
   "cell_type": "code",
   "execution_count": 13,
   "metadata": {},
   "outputs": [
    {
     "name": "stdout",
     "output_type": "stream",
     "text": [
      "Actual Number of Android apps being developed: 8864\n",
      "Actual Number of iOS apps being developed: 3222\n"
     ]
    }
   ],
   "source": [
    "Android_dataset = []\n",
    "iOS_dataset = []\n",
    "\n",
    "for rows in android_apps_english_data:\n",
    "    price = rows[7]\n",
    "    if price == '0':\n",
    "        Android_dataset.append(rows)\n",
    "        \n",
    "for rows in iOS_apps_english_data:\n",
    "    prices = rows[4]\n",
    "    if prices == '0.0':\n",
    "        iOS_dataset.append(rows)    \n",
    "\n",
    "print('Actual Number of Android apps being developed:', len(Android_dataset))\n",
    "print('Actual Number of iOS apps being developed:',len(iOS_dataset))"
   ]
  },
  {
   "cell_type": "markdown",
   "metadata": {},
   "source": [
    "## 6. Data Analysis:"
   ]
  },
  {
   "cell_type": "markdown",
   "metadata": {},
   "source": [
    "<p style = 'text-align ; justify;'> $\\hspace{0.5 mm}$ Since the end goal is to find the most attractive app and add it to both the Google Play Store and the Apple App Store, the app profile being looked for should be profitable in both markets. </p>\n",
    "\n",
    "<p style = 'text-align ; justify;'> $\\hspace{0.5 mm}$ To start the analysis, we will begin by getting a investigating what the most common genres for each market are. To do so, frequency tables are generated to see which the most prominent genres were. For android apps, the genres are listed in 'Genre' and 'Category' columns in the Android datasets and for iOS apps, the genres are listed in the 'prime_genre' columns in the iOS App Store datasets. </p>"
   ]
  },
  {
   "cell_type": "markdown",
   "metadata": {},
   "source": [
    "###  $\\hspace{8 mm}$  <i> 6.1 Application Frequency by Genre : </i>\n",
    "\n",
    "<p style = 'text-align ; justify;'> $\\hspace{0.5 mm}$ Below is the analysis of the most common free English applications in the Android Google Play and Apple App Stores. To do this, two functions are implemented: </p>\n",
    "- <b> Function 1: 'freq_table' : </b> To create genre based frequency tables showing the percentages\n",
    "- <b> Function 2: 'display_table' : </b> To reorder the variables and values in the frequency table from Function 1 to show the most common applications in the different app stores in descending order."
   ]
  },
  {
   "cell_type": "code",
   "execution_count": 14,
   "metadata": {},
   "outputs": [],
   "source": [
    "def freq_table(dataset,index):\n",
    "    tables = {}\n",
    "    totaling = 0\n",
    "    \n",
    "    for row in dataset:\n",
    "        totaling +=1\n",
    "        values = row[index]\n",
    "        \n",
    "        if values in tables:\n",
    "            tables[values] +=1\n",
    "        else:\n",
    "            tables[values] = 1\n",
    "            \n",
    "        table_percentage = {}\n",
    "        \n",
    "        for keys in tables:\n",
    "            percents = (tables[keys] / totaling) * 100\n",
    "            table_percentage[keys] = percents\n",
    "            \n",
    "    return table_percentage\n",
    "\n",
    "    \n",
    "def display_table(dataset, index):\n",
    "    table = freq_table(dataset, index)\n",
    "    table_display = []\n",
    "    for key in table:\n",
    "        key_val_as_tuple = (table[key], key)\n",
    "        table_display.append(key_val_as_tuple)\n",
    "        \n",
    "    table_sorted = sorted(table_display, reverse = True)\n",
    "    for entry in table_sorted:\n",
    "        print(entry[1], ':', entry[0])\n",
    "        "
   ]
  },
  {
   "cell_type": "markdown",
   "metadata": {},
   "source": [
    "##### $\\hspace{9 mm}$ 6.1.1 Most Common Free English Applications in the iOS datsets by Genre:\n",
    "\n",
    "<p style = 'text-align ; justify;'> $\\hspace{0.5 mm}$  Analysing the frequency table for the prime_genre column of the App Store data set. </p>"
   ]
  },
  {
   "cell_type": "code",
   "execution_count": 15,
   "metadata": {},
   "outputs": [
    {
     "name": "stdout",
     "output_type": "stream",
     "text": [
      "Games : 58.16263190564867\n",
      "Entertainment : 7.883302296710118\n",
      "Photo & Video : 4.9658597144630665\n",
      "Education : 3.662321539416512\n",
      "Social Networking : 3.2898820608317814\n",
      "Shopping : 2.60707635009311\n",
      "Utilities : 2.5139664804469275\n",
      "Sports : 2.1415270018621975\n",
      "Music : 2.0484171322160147\n",
      "Health & Fitness : 2.0173805090006205\n",
      "Productivity : 1.7380509000620732\n",
      "Lifestyle : 1.5828677839851024\n",
      "News : 1.3345747982619491\n",
      "Travel : 1.2414649286157666\n",
      "Finance : 1.1173184357541899\n",
      "Weather : 0.8690254500310366\n",
      "Food & Drink : 0.8069522036002483\n",
      "Reference : 0.5586592178770949\n",
      "Business : 0.5276225946617008\n",
      "Book : 0.4345127250155183\n",
      "Navigation : 0.186219739292365\n",
      "Medical : 0.186219739292365\n",
      "Catalogs : 0.12414649286157665\n"
     ]
    }
   ],
   "source": [
    "display_table(iOS_dataset, 11) #prime_genre"
   ]
  },
  {
   "cell_type": "markdown",
   "metadata": {
    "collapsed": true
   },
   "source": [
    "<p style = 'text-align ; justify;'> $\\hspace{0.5 mm}$  From the frequency tables above, the top five most common free English application genres can be summarised as: </p>\n",
    "\n",
    "\n",
    "<p style='text-align: center;'> <b> Table 3: List of top five most common free English applications in the Apple App Store. <b> </p>\n",
    "\n",
    "|Common Free English iOS Application | Percentage   |\n",
    "| :---:            |    :----:          |     \n",
    "|Games             |    58.16%          | \n",
    "|Entertainment     |    7.88%           |\n",
    "|Photo & Video     |    4.96%           | \n",
    "|Education         |    3.66%           | \n",
    "|Social Networking |    3.29%           | \n",
    "\n"
   ]
  },
  {
   "cell_type": "markdown",
   "metadata": {},
   "source": [
    "<p style = 'text-align ; justify;'> $\\hspace{0.5 mm}$ From the data above it can be seen that the more social and entertaining applications like 'Games, Entertainment and Photo&Video' have a bigger prescence in the Apple Store amongst all the free english applications in the store. Despite there seems to be a larger offering of these application, this does not necessarily imply that these apps have the most demand and the highest number of users. </p> "
   ]
  },
  {
   "cell_type": "markdown",
   "metadata": {},
   "source": [
    "##### $\\hspace{9 mm}$ 6.1.2 Most Common Free English Applications in the Android datsets by Genre:\n",
    "\n",
    "<p style = 'text-align ; justify;'> $\\hspace{0.5 mm}$  Analysing the frequency table for the 'Genre' and 'Categories' column of the Android Google Play Store data set. </p>\n",
    "\n",
    "###### $\\hspace{20 mm}$ As Per Category Column of the Android Dataset"
   ]
  },
  {
   "cell_type": "code",
   "execution_count": 16,
   "metadata": {},
   "outputs": [
    {
     "name": "stdout",
     "output_type": "stream",
     "text": [
      "FAMILY : 18.907942238267147\n",
      "GAME : 9.724729241877256\n",
      "TOOLS : 8.461191335740072\n",
      "BUSINESS : 4.591606498194946\n",
      "LIFESTYLE : 3.9034296028880866\n",
      "PRODUCTIVITY : 3.892148014440433\n",
      "FINANCE : 3.7003610108303246\n",
      "MEDICAL : 3.531137184115524\n",
      "SPORTS : 3.395758122743682\n",
      "PERSONALIZATION : 3.3167870036101084\n",
      "COMMUNICATION : 3.2378158844765346\n",
      "HEALTH_AND_FITNESS : 3.0798736462093865\n",
      "PHOTOGRAPHY : 2.944494584837545\n",
      "NEWS_AND_MAGAZINES : 2.7978339350180503\n",
      "SOCIAL : 2.6624548736462095\n",
      "TRAVEL_AND_LOCAL : 2.33528880866426\n",
      "SHOPPING : 2.2450361010830324\n",
      "BOOKS_AND_REFERENCE : 2.1435018050541514\n",
      "DATING : 1.861462093862816\n",
      "VIDEO_PLAYERS : 1.7937725631768955\n",
      "MAPS_AND_NAVIGATION : 1.3989169675090252\n",
      "FOOD_AND_DRINK : 1.2409747292418771\n",
      "EDUCATION : 1.1620036101083033\n",
      "ENTERTAINMENT : 0.9589350180505415\n",
      "LIBRARIES_AND_DEMO : 0.9363718411552346\n",
      "AUTO_AND_VEHICLES : 0.9250902527075812\n",
      "HOUSE_AND_HOME : 0.8235559566787004\n",
      "WEATHER : 0.8009927797833934\n",
      "EVENTS : 0.7107400722021661\n",
      "PARENTING : 0.6543321299638989\n",
      "ART_AND_DESIGN : 0.6430505415162455\n",
      "COMICS : 0.6204873646209386\n",
      "BEAUTY : 0.5979241877256317\n"
     ]
    }
   ],
   "source": [
    "display_table(Android_dataset, 1) # Category"
   ]
  },
  {
   "cell_type": "markdown",
   "metadata": {},
   "source": [
    "<p style = 'text-align ; justify;'> $\\hspace{0.5 mm}$ Unlike the Apple Store dataset, there seems to a higher number of utilitarian and practical applications out of all the free English applications in the Android Google Play Store and can be summarised as seen in the table below.\n",
    "\n",
    "\n",
    "<p style='text-align: center;'> <b> Table 4: List of top five most common free English applications in the Google Play Store as per the Genres column. <b> </p>\n",
    "\n",
    "|Common Free English Android Application | Percentage   |\n",
    "| :---:       |    :----:          |     \n",
    "|FAMILY       |    18.91%          | \n",
    "|GAME         |    9.72%           |\n",
    "|TOOLS        |    8.46%           | \n",
    "|BUSINESS     |    4.59%           | \n",
    "|LIFESTYLE    |    3.90%           | \n",
    "\n",
    "\n"
   ]
  },
  {
   "cell_type": "markdown",
   "metadata": {},
   "source": [
    "###### $\\hspace{20 mm}$ As Per Genres Column of the Android Dataset"
   ]
  },
  {
   "cell_type": "code",
   "execution_count": 17,
   "metadata": {},
   "outputs": [
    {
     "name": "stdout",
     "output_type": "stream",
     "text": [
      "Tools : 8.449909747292418\n",
      "Entertainment : 6.069494584837545\n",
      "Education : 5.347472924187725\n",
      "Business : 4.591606498194946\n",
      "Productivity : 3.892148014440433\n",
      "Lifestyle : 3.892148014440433\n",
      "Finance : 3.7003610108303246\n",
      "Medical : 3.531137184115524\n",
      "Sports : 3.463447653429603\n",
      "Personalization : 3.3167870036101084\n",
      "Communication : 3.2378158844765346\n",
      "Action : 3.1024368231046933\n",
      "Health & Fitness : 3.0798736462093865\n",
      "Photography : 2.944494584837545\n",
      "News & Magazines : 2.7978339350180503\n",
      "Social : 2.6624548736462095\n",
      "Travel & Local : 2.3240072202166067\n",
      "Shopping : 2.2450361010830324\n",
      "Books & Reference : 2.1435018050541514\n",
      "Simulation : 2.0419675090252705\n",
      "Dating : 1.861462093862816\n",
      "Arcade : 1.8501805054151623\n",
      "Video Players & Editors : 1.7712093862815883\n",
      "Casual : 1.7599277978339352\n",
      "Maps & Navigation : 1.3989169675090252\n",
      "Food & Drink : 1.2409747292418771\n",
      "Puzzle : 1.128158844765343\n",
      "Racing : 0.9927797833935018\n",
      "Role Playing : 0.9363718411552346\n",
      "Libraries & Demo : 0.9363718411552346\n",
      "Auto & Vehicles : 0.9250902527075812\n",
      "Strategy : 0.9138086642599278\n",
      "House & Home : 0.8235559566787004\n",
      "Weather : 0.8009927797833934\n",
      "Events : 0.7107400722021661\n",
      "Adventure : 0.6768953068592057\n",
      "Comics : 0.6092057761732852\n",
      "Beauty : 0.5979241877256317\n",
      "Art & Design : 0.5979241877256317\n",
      "Parenting : 0.4963898916967509\n",
      "Card : 0.45126353790613716\n",
      "Casino : 0.42870036101083037\n",
      "Trivia : 0.41741877256317694\n",
      "Educational;Education : 0.39485559566787\n",
      "Board : 0.3835740072202166\n",
      "Educational : 0.3722924187725632\n",
      "Education;Education : 0.33844765342960287\n",
      "Word : 0.2594765342960289\n",
      "Casual;Pretend Play : 0.236913357400722\n",
      "Music : 0.2030685920577617\n",
      "Racing;Action & Adventure : 0.16922382671480143\n",
      "Puzzle;Brain Games : 0.16922382671480143\n",
      "Entertainment;Music & Video : 0.16922382671480143\n",
      "Casual;Brain Games : 0.13537906137184114\n",
      "Casual;Action & Adventure : 0.13537906137184114\n",
      "Arcade;Action & Adventure : 0.12409747292418773\n",
      "Action;Action & Adventure : 0.10153429602888085\n",
      "Educational;Pretend Play : 0.09025270758122744\n",
      "Simulation;Action & Adventure : 0.078971119133574\n",
      "Parenting;Education : 0.078971119133574\n",
      "Entertainment;Brain Games : 0.078971119133574\n",
      "Board;Brain Games : 0.078971119133574\n",
      "Parenting;Music & Video : 0.06768953068592057\n",
      "Educational;Brain Games : 0.06768953068592057\n",
      "Casual;Creativity : 0.06768953068592057\n",
      "Art & Design;Creativity : 0.06768953068592057\n",
      "Education;Pretend Play : 0.056407942238267145\n",
      "Role Playing;Pretend Play : 0.04512635379061372\n",
      "Education;Creativity : 0.04512635379061372\n",
      "Role Playing;Action & Adventure : 0.033844765342960284\n",
      "Puzzle;Action & Adventure : 0.033844765342960284\n",
      "Entertainment;Creativity : 0.033844765342960284\n",
      "Entertainment;Action & Adventure : 0.033844765342960284\n",
      "Educational;Creativity : 0.033844765342960284\n",
      "Educational;Action & Adventure : 0.033844765342960284\n",
      "Education;Music & Video : 0.033844765342960284\n",
      "Education;Brain Games : 0.033844765342960284\n",
      "Education;Action & Adventure : 0.033844765342960284\n",
      "Adventure;Action & Adventure : 0.033844765342960284\n",
      "Video Players & Editors;Music & Video : 0.02256317689530686\n",
      "Sports;Action & Adventure : 0.02256317689530686\n",
      "Simulation;Pretend Play : 0.02256317689530686\n",
      "Puzzle;Creativity : 0.02256317689530686\n",
      "Music;Music & Video : 0.02256317689530686\n",
      "Entertainment;Pretend Play : 0.02256317689530686\n",
      "Casual;Education : 0.02256317689530686\n",
      "Board;Action & Adventure : 0.02256317689530686\n",
      "Video Players & Editors;Creativity : 0.01128158844765343\n",
      "Trivia;Education : 0.01128158844765343\n",
      "Travel & Local;Action & Adventure : 0.01128158844765343\n",
      "Tools;Education : 0.01128158844765343\n",
      "Strategy;Education : 0.01128158844765343\n",
      "Strategy;Creativity : 0.01128158844765343\n",
      "Strategy;Action & Adventure : 0.01128158844765343\n",
      "Simulation;Education : 0.01128158844765343\n",
      "Role Playing;Brain Games : 0.01128158844765343\n",
      "Racing;Pretend Play : 0.01128158844765343\n",
      "Puzzle;Education : 0.01128158844765343\n",
      "Parenting;Brain Games : 0.01128158844765343\n",
      "Music & Audio;Music & Video : 0.01128158844765343\n",
      "Lifestyle;Pretend Play : 0.01128158844765343\n",
      "Lifestyle;Education : 0.01128158844765343\n",
      "Health & Fitness;Education : 0.01128158844765343\n",
      "Health & Fitness;Action & Adventure : 0.01128158844765343\n",
      "Entertainment;Education : 0.01128158844765343\n",
      "Communication;Creativity : 0.01128158844765343\n",
      "Comics;Creativity : 0.01128158844765343\n",
      "Casual;Music & Video : 0.01128158844765343\n",
      "Card;Action & Adventure : 0.01128158844765343\n",
      "Books & Reference;Education : 0.01128158844765343\n",
      "Art & Design;Pretend Play : 0.01128158844765343\n",
      "Art & Design;Action & Adventure : 0.01128158844765343\n",
      "Arcade;Pretend Play : 0.01128158844765343\n",
      "Adventure;Education : 0.01128158844765343\n"
     ]
    }
   ],
   "source": [
    "display_table(Android_dataset, 9) #Genres"
   ]
  },
  {
   "cell_type": "markdown",
   "metadata": {},
   "source": [
    "\n",
    "<p style = 'text-align ; justify;'> $\\hspace{0.5 mm}$ It can be seen that the 'Category' column has more applications, with more variety in comparison to the 'Genres' column. The relation between the two columns is unclear, however due to the increased variety, the Category column will be used as the column corresponding to the android application genres and then to be compared with the prie_genre column in the Apple App Store. As seen from the Genres column, the most common applications have a wider range, with more of them offering a practical purpose. The top five most common free english applications as per the category column can be summarised by the table below:\n",
    "\n",
    "<p style='text-align: center;'> <b> Table 5: List of top five most common free English applications in the Google Play Store as per the Category column. </b> </p>\n",
    "\n",
    "|Common Free English Android Application |  Percentage of Android Apps   |\n",
    "| :---:       |    :----:          |     \n",
    "|Tools        |    8.45%           | \n",
    "|Entertainment|    6.07%           |\n",
    "|Education    |    5.35%           | \n",
    "|Business     |    4.59%           | \n",
    "|Productivity |    3.89%           | \n",
    "\n",
    "\n",
    "\n"
   ]
  },
  {
   "cell_type": "markdown",
   "metadata": {},
   "source": [
    "Similarly, the commonality of the most frequent genres in the Google Play Store do not correspond to the most in-demand/ most popular applications with the highest number of users."
   ]
  },
  {
   "cell_type": "markdown",
   "metadata": {},
   "source": [
    "###  $\\hspace{8 mm}$  <i> 6.2 Popular Applications by Genre : </i>\n",
    "\n",
    "<p style = 'text-align ; justify;'> $\\hspace{0.5 mm}$ A good way of determing which of the most in-demand applications is to analyse the number of installs, that is, how many times the applications were installed. The more installs an application has, the more popular it is. Since the data regarding the number of installs of an app is unavailable in the Apple App Store dataset, a work around implemented is to use the number of user ratings as a proxy. Focus then becomes to represent the average number of ratings for each app as a measure of popularity </p>"
   ]
  },
  {
   "cell_type": "markdown",
   "metadata": {},
   "source": [
    "##### $\\hspace{9 mm}$ 6.2.1 Most Popular Free English Applications in the iOS datsets by Genre:\n",
    "\n",
    "Since the App Store datasets has no number of installs recorded, the ratings are used to analyse which application genre are the most popular. To do so, we \n",
    "- Isolate the apps of each genre.\n",
    "- Sum up the user ratings for the apps of that genre.\n",
    "- Divide the sum by the number of apps belonging to that genre (not by the total number of apps)."
   ]
  },
  {
   "cell_type": "code",
   "execution_count": 18,
   "metadata": {},
   "outputs": [
    {
     "name": "stdout",
     "output_type": "stream",
     "text": [
      "Social Networking : 71548.34905660378\n",
      "Photo & Video : 28441.54375\n",
      "Games : 22788.6696905016\n",
      "Music : 57326.530303030304\n",
      "Reference : 74942.11111111111\n",
      "Health & Fitness : 23298.015384615384\n",
      "Weather : 52279.892857142855\n",
      "Utilities : 18684.456790123455\n",
      "Travel : 28243.8\n",
      "Shopping : 26919.690476190477\n",
      "News : 21248.023255813954\n",
      "Navigation : 86090.33333333333\n",
      "Lifestyle : 16485.764705882353\n",
      "Entertainment : 14029.830708661417\n",
      "Food & Drink : 33333.92307692308\n",
      "Sports : 23008.898550724636\n",
      "Book : 39758.5\n",
      "Finance : 31467.944444444445\n",
      "Education : 7003.983050847458\n",
      "Productivity : 21028.410714285714\n",
      "Business : 7491.117647058823\n",
      "Catalogs : 4004.0\n",
      "Medical : 612.0\n"
     ]
    }
   ],
   "source": [
    "list_iOS = freq_table(iOS_dataset,11) #prime_genre frequency table\n",
    "for genre in list_iOS:\n",
    "    total = 0\n",
    "    len_genre = 0\n",
    "    for row in iOS_dataset:\n",
    "        genre_app = row[11]\n",
    "        if genre_app == genre:\n",
    "            rating = float(row[5])\n",
    "            total += rating\n",
    "            len_genre += 1\n",
    "        \n",
    "    avg_rating = total/len_genre\n",
    "    print(genre, ':' , avg_rating)"
   ]
  },
  {
   "cell_type": "markdown",
   "metadata": {},
   "source": [
    "<p style='text-align: center;'> <b> Table 6: List of top five most popular free English applications in the iOS App Store as per the highest average number of ratings. </b> </p>\n",
    "    \n",
    "|Order |Popular iOS Application Genre|  Average Rating    |\n",
    "| :---:       | :---:       |    :----:          |     \n",
    "|1  |Navigation            |    86090           | \n",
    "|2  |References            |    74942           |\n",
    "|3  |Social Networking     |    71548           | \n",
    "|4  |Music                 |    57326           | \n",
    "|5  |Weather               |    52280           | \n",
    "\n",
    "\n",
    "<p style='text-align: justify;'> $\\hspace{5 mm}$  From data above, the Navigation genre recieves the most ratings (86090 ratings) and appears to be the most popular in the iOS application store based on our criteria. This result however may prove misleading. This app is followed by 'References' (74942 ratings), 'Social Networking' (71548 ratings) and 'Music' (57326 ratings) applications. Out of the many applications in each genre, there may be a few applications responsible for the high number of ratings. Further analysis is done to support this: </p>"
   ]
  },
  {
   "cell_type": "code",
   "execution_count": 19,
   "metadata": {},
   "outputs": [
    {
     "name": "stdout",
     "output_type": "stream",
     "text": [
      "Popular apps in the Navigation genre:\n",
      "Average ratings : 86090 \n",
      "\n",
      "Waze - GPS Navigation, Maps & Real-time Traffic : 345046\n",
      "Google Maps - Navigation & Transit : 154911\n",
      "Geocaching® : 12811\n",
      "CoPilot GPS – Car Navigation & Offline Maps : 3582\n",
      "ImmobilienScout24: Real Estate Search in Germany : 187\n",
      "Railway Route Search : 5\n",
      "\n",
      "Popular apps in the Reference genre:\n",
      "Average ratings : 74942 \n",
      "\n",
      "Bible : 985920\n",
      "Dictionary.com Dictionary & Thesaurus : 200047\n",
      "Dictionary.com Dictionary & Thesaurus for iPad : 54175\n",
      "Google Translate : 26786\n",
      "Muslim Pro: Ramadan 2017 Prayer Times, Azan, Quran : 18418\n",
      "New Furniture Mods - Pocket Wiki & Game Tools for Minecraft PC Edition : 17588\n",
      "\n",
      "Popular apps in the Social Networking genre:\n",
      "Average ratings : 71548 \n",
      "\n",
      "Facebook : 2974676\n",
      "Pinterest : 1061624\n",
      "Skype for iPhone : 373519\n",
      "Messenger : 351466\n",
      "Tumblr : 334293\n",
      "WhatsApp Messenger : 287589\n"
     ]
    }
   ],
   "source": [
    "print('Popular apps in the Navigation genre:')\n",
    "print('Average ratings : 86090 \\n')\n",
    "for app in iOS_dataset:\n",
    "    if app[-5] == 'Navigation':\n",
    "        print(app[1], ':', app[5]) # print name and number of ratings\n",
    "\n",
    "print('\\nPopular apps in the Reference genre:')\n",
    "print('Average ratings : 74942 \\n')\n",
    "count = 0\n",
    "for app in iOS_dataset:\n",
    "    if app[-5] == 'Reference' and count < 6:\n",
    "        print(app[1], ':', app[5]) # print name and number of ratings\n",
    "        count +=1\n",
    "        \n",
    "print('\\nPopular apps in the Social Networking genre:')\n",
    "print('Average ratings : 71548 \\n')\n",
    "count = 0\n",
    "for app in iOS_dataset:\n",
    "    if app[-5] == 'Social Networking' and count <6:\n",
    "        print(app[1], ':', app[5]) # print name and number of ratings\n",
    "        count +=1"
   ]
  },
  {
   "cell_type": "markdown",
   "metadata": {},
   "source": [
    "<p style='text-align: justify;'> $\\hspace{5 mm}$ By analysing the individual ratings of the more popular applications, we can see that there are few giant apps whose presence dominates the specific genre group and in turn lead to the genre seeming more popular than it really easy as per our criteria. Consequently,the average number of ratings seem to be skewed by a few apps which have hundreds of thousands of user ratings, while the other apps may struggle to get past the 10,000 threshold.  </p>"
   ]
  },
  {
   "cell_type": "markdown",
   "metadata": {
    "collapsed": true
   },
   "source": [
    "<p style='text-align: justify;'> $\\hspace{5 mm}$ From the data above, the application genre that shows a potential for popularity is that which would incooperate the top 5 genres shown in Table 6. Nevertheless, despite their popularity, applications in the genres Navigation and weather are not known to have great retention. Usability of these applications do not foster and advocate for exploration and discovery hence proving less likely to be good hosts of in-app purchases(the model to which our company makes the most profit). </p>\n",
    "\n",
    "<p style='text-align: justify;'> $\\hspace{5 mm}$ Consequently, an application I would recommend is that rooted under the References genre. An application that would allow users to access different books as well as corresponding video content, in a way that allows for the sharing of thoughts and ideas regarding the books. Furthermore, this application would include cook books and tutorials that foster reading skills and allow for the building of imagination as well as practical skills.   </p>"
   ]
  },
  {
   "cell_type": "markdown",
   "metadata": {
    "collapsed": true
   },
   "source": [
    "##### $\\hspace{9 mm}$ 6.2.2 Most Popular Free English Applications in the Android datsets by Genre:\n",
    "\n",
    "<p style='text-align: justify;'> $\\hspace{5 mm}$ This dataset includes disting number of installs, thus allowing us to know the exact number of people who installed the applications. However, the data entries are mostly estimates (eg. 1,000+) and so data cleaning is done below to assure better precision is achieved. The obtained number of ratings are then cleaned for each application and the average number of ratings is obtained for each application genre. </p>"
   ]
  },
  {
   "cell_type": "code",
   "execution_count": 20,
   "metadata": {},
   "outputs": [
    {
     "name": "stdout",
     "output_type": "stream",
     "text": [
      "ART_AND_DESIGN : 1986335.0877192982\n",
      "AUTO_AND_VEHICLES : 647317.8170731707\n",
      "BEAUTY : 513151.88679245283\n",
      "BOOKS_AND_REFERENCE : 8767811.894736841\n",
      "BUSINESS : 1712290.1474201474\n",
      "COMICS : 817657.2727272727\n",
      "COMMUNICATION : 38456119.167247385\n",
      "DATING : 854028.8303030303\n",
      "EDUCATION : 1833495.145631068\n",
      "ENTERTAINMENT : 11640705.88235294\n",
      "EVENTS : 253542.22222222222\n",
      "FINANCE : 1387692.475609756\n",
      "FOOD_AND_DRINK : 1924897.7363636363\n",
      "HEALTH_AND_FITNESS : 4188821.9853479853\n",
      "HOUSE_AND_HOME : 1331540.5616438356\n",
      "LIBRARIES_AND_DEMO : 638503.734939759\n",
      "LIFESTYLE : 1437816.2687861272\n",
      "GAME : 15588015.603248259\n",
      "FAMILY : 3695641.8198090694\n",
      "MEDICAL : 120550.61980830671\n",
      "SOCIAL : 23253652.127118643\n",
      "SHOPPING : 7036877.311557789\n",
      "PHOTOGRAPHY : 17840110.40229885\n",
      "SPORTS : 3638640.1428571427\n",
      "TRAVEL_AND_LOCAL : 13984077.710144928\n",
      "TOOLS : 10801391.298666667\n",
      "PERSONALIZATION : 5201482.6122448975\n",
      "PRODUCTIVITY : 16787331.344927534\n",
      "PARENTING : 542603.6206896552\n",
      "WEATHER : 5074486.197183099\n",
      "VIDEO_PLAYERS : 24727872.452830188\n",
      "NEWS_AND_MAGAZINES : 9549178.467741935\n",
      "MAPS_AND_NAVIGATION : 4056941.7741935486\n"
     ]
    }
   ],
   "source": [
    "Names = freq_table(Android_dataset, 1)\n",
    "\n",
    "for row in Names:\n",
    "    total = 0\n",
    "    length = 0\n",
    "    for app in Android_dataset:\n",
    "        category = app[1]\n",
    "        if category == row:            \n",
    "            installs = app[5]\n",
    "            installs = installs.replace(',', '')\n",
    "            installs = installs.replace('+', '')\n",
    "            total += float(installs)\n",
    "            length += 1\n",
    "    avg_installs = total / length\n",
    "    print(row, ':', avg_installs)"
   ]
  },
  {
   "cell_type": "markdown",
   "metadata": {},
   "source": [
    "<p style='text-align: center;'> <b> Table 7: List of top eleven most popular free English applications in the Google Play Store as per the highest average number of installs. </b> </p>\n",
    "\n",
    "|Order |Popular Android Application Genre|  Average Number of Installations    |\n",
    "| :---:       | :---:       |    :----:          |     \n",
    "|1  |COMMUNICATION            |    38,456,119           |\n",
    "|2  |VIDEO_PLAYERS            |    24,727,872           |\n",
    "|3  |SOCIAL                   |    23,253,652           |\n",
    "|4  |PHOTOGRAPHY              |    17,840,110           |\n",
    "|5  |PRODUCTIVITY             |    16,787,331           |\n",
    "|6  |GAME                     |    15,588,016           |\n",
    "|7  |TRAVEL_AND_LOCAL         |    13,984,078           |\n",
    "|8  |ENTERTAINMENT            |    11,640,705           | \n",
    "|9  |TOOLS                    |    10,801,391           |\n",
    "|10  |NEWS_AND_MAGAZINES       |    9,549,178            |\n",
    "|11  |BOOKS_AND_REFERENCE      |    8,767,812            | \n"
   ]
  },
  {
   "cell_type": "code",
   "execution_count": 21,
   "metadata": {},
   "outputs": [
    {
     "name": "stdout",
     "output_type": "stream",
     "text": [
      "\n",
      "Popular apps in the COMMUNICATION genre:\n",
      "Average Installs : 38,456,119 \n",
      "\n",
      "WhatsApp Messenger : 1,000,000,000+\n",
      "Messenger for SMS : 10,000,000+\n",
      "My Tele2 : 5,000,000+\n",
      "imo beta free calls and text : 100,000,000+\n",
      "Contacts : 50,000,000+\n",
      "Call Free – Free Call : 5,000,000+\n",
      "\n",
      "Popular apps in the VIDEO_PLAYERS genre:\n",
      "Average Installs : 24,727,872 \n",
      "\n",
      "YouTube : 1,000,000,000+\n",
      "All Video Downloader 2018 : 1,000,000+\n",
      "Video Downloader : 10,000,000+\n",
      "HD Video Player : 1,000,000+\n",
      "Iqiyi (for tablet) : 1,000,000+\n",
      "Video Player All Format : 10,000,000+\n",
      "\n",
      "Popular apps in the BOOKS_AND_REFERENCE genre:\n",
      "Average Installs : 8,767,812 \n",
      "\n",
      "E-Book Read - Read Book for free : 50,000+\n",
      "Download free book with green book : 100,000+\n",
      "Wikipedia : 10,000,000+\n",
      "Cool Reader : 10,000,000+\n",
      "Free Panda Radio Music : 100,000+\n",
      "Book store : 1,000,000+\n"
     ]
    }
   ],
   "source": [
    "print('\\nPopular apps in the COMMUNICATION genre:')\n",
    "print('Average Installs : 38,456,119 \\n')\n",
    "count = 0\n",
    "for app in Android_dataset:\n",
    "    if app[1] == 'COMMUNICATION' and count < 6:\n",
    "        print(app[0], ':', app[5]) # print name and number of ratings\n",
    "        count +=1\n",
    "        \n",
    "print('\\nPopular apps in the VIDEO_PLAYERS genre:')\n",
    "print('Average Installs : 24,727,872 \\n')\n",
    "count = 0\n",
    "for app in Android_dataset:\n",
    "    if app[1] == 'VIDEO_PLAYERS' and count <6:\n",
    "        print(app[0], ':', app[5]) # print name and number of ratings\n",
    "        count +=1\n",
    "\n",
    "print('\\nPopular apps in the BOOKS_AND_REFERENCE genre:')\n",
    "print('Average Installs : 8,767,812 \\n')\n",
    "count = 0\n",
    "for app in Android_dataset:\n",
    "    if app[1] == 'BOOKS_AND_REFERENCE' and count <6:\n",
    "        print(app[0], ':', app[5]) # print name and number of ratings\n",
    "        count +=1\n"
   ]
  },
  {
   "cell_type": "markdown",
   "metadata": {},
   "source": [
    "<p style='text-align: justify;'> $\\hspace{5 mm}$ As seen in the data above, similar to the iOS applications application dataset, there appears to be few applications in the popular genres that have a many more ratings than the rest and hence causing the entire corresponding genre to appear more prominent. Moreover, the data also shows that the application suggested in section 6.2.1 would have a positive result here. The book application explained would have features that touch on the popluar applications genres. (Specifically 1, 2, 3, 5, 11) </p> \n",
    "\n",
    " - <b> 1. Communications: </b> Ideally the book application would allow for virtual book clubs to be formed where people could meet via video conference calls e.t.c, to discuss various books and articles.\n",
    " \n",
    " - <b> 2. Video Player: </b>The application would have video player accessibility where people could post video content regarding books and articles. Content could range from tutorials to various book analysis.\n",
    " \n",
    " - <b> 3. Social:</b> The application would have options of connection, were people could post about their readings, their discoveries, their learning experience e.t.c\n",
    "\n",
    "- <b> 5. Productivity: </b> This app would allow for project creation, where each project can allow for corresponding books and video contents could be collected and used as a tools for efficient learning and/or research.\n",
    "\n",
    "- <b> 11. Books and References: </b> The propose book applictaion would result in housing a collection of different books and reference materials for users of all ages. "
   ]
  },
  {
   "cell_type": "markdown",
   "metadata": {},
   "source": [
    "## 7. Conclusions:\n",
    "<p style='text-align: justify;'> $\\hspace{5 mm}$ The project successfuly analysed mobile phone application datasets from both Google Play Store and Apple App Stores. This was to deduce an application genre that would prove profitable in both Google Play Store and Apple App Store, where primary mode of profit is through in-app purchases. Datasets were cleaned to include only free, English-based applications. The likelihood of the applications to be installed (Application Popularity) was assesed using average number of ratings per genre in the Google Play Store dataset and the average number of installs per genre in the Apple App Store dataset. </p>\n",
    "\n",
    "<p style='text-align: justify;'> $\\hspace{5 mm}$ The resulting application genre chosen was that of a book/reference application with video content capabilities and with the intention of fostering a social environment. The application could be used as a means to learn new skills (through books and video tutorials) or simply to have exciting discussions 'book clubs' through virtual means such as video conferencing. </p>"
   ]
  },
  {
   "cell_type": "code",
   "execution_count": null,
   "metadata": {},
   "outputs": [],
   "source": []
  }
 ],
 "metadata": {
  "kernelspec": {
   "display_name": "Python 3",
   "language": "python",
   "name": "python3"
  },
  "language_info": {
   "codemirror_mode": {
    "name": "ipython",
    "version": 3
   },
   "file_extension": ".py",
   "mimetype": "text/x-python",
   "name": "python",
   "nbconvert_exporter": "python",
   "pygments_lexer": "ipython3",
   "version": "3.7.3"
  }
 },
 "nbformat": 4,
 "nbformat_minor": 2
}
